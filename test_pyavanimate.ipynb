{
  "nbformat": 4,
  "nbformat_minor": 0,
  "metadata": {
    "colab": {
      "provenance": [],
      "authorship_tag": "ABX9TyPmTWK0yeQxJ3XLf+iquBNV",
      "include_colab_link": true
    },
    "kernelspec": {
      "name": "python3",
      "display_name": "Python 3"
    },
    "language_info": {
      "name": "python"
    }
  },
  "cells": [
    {
      "cell_type": "markdown",
      "metadata": {
        "id": "view-in-github",
        "colab_type": "text"
      },
      "source": [
        "<a href=\"https://colab.research.google.com/github/davies-w/pyavanimate/blob/master/test_pyavanimate.ipynb\" target=\"_parent\"><img src=\"https://colab.research.google.com/assets/colab-badge.svg\" alt=\"Open In Colab\"/></a>"
      ]
    },
    {
      "cell_type": "code",
      "execution_count": 1,
      "metadata": {
        "colab": {
          "base_uri": "https://localhost:8080/"
        },
        "id": "oCUh1_xB0Din",
        "outputId": "33b75dbf-49f7-4a9c-fe0b-b28132916134"
      },
      "outputs": [
        {
          "output_type": "stream",
          "name": "stdout",
          "text": [
            "  Preparing metadata (setup.py) ... \u001b[?25l\u001b[?25hdone\n",
            "  Building wheel for pyavanimate (setup.py) ... \u001b[?25l\u001b[?25hdone\n"
          ]
        }
      ],
      "source": [
        "!pip install --upgrade --no-deps --force-reinstall --quiet 'git+https://github.com/davies-w/pyavanimate.git'"
      ]
    },
    {
      "cell_type": "code",
      "source": [
        "import pyavanimate"
      ],
      "metadata": {
        "id": "k2ZcEycb0Vwz"
      },
      "execution_count": 2,
      "outputs": []
    },
    {
      "cell_type": "code",
      "source": [
        "pyavanimate.test_slow_song()"
      ],
      "metadata": {
        "id": "qQs-NeXn0a7I"
      },
      "execution_count": null,
      "outputs": []
    },
    {
      "cell_type": "code",
      "source": [
        "pyavanimate.test_fast_song()"
      ],
      "metadata": {
        "id": "zz0wOozb0oR7"
      },
      "execution_count": null,
      "outputs": []
    },
    {
      "cell_type": "code",
      "source": [
        "pyavanimate.test_fast_two_part_song()"
      ],
      "metadata": {
        "id": "75Fyh77LPOqL"
      },
      "execution_count": null,
      "outputs": []
    },
    {
      "cell_type": "code",
      "source": [
        "pyavanimate.test_interactive()"
      ],
      "metadata": {
        "id": "c6cvAc75kBUU"
      },
      "execution_count": null,
      "outputs": []
    },
    {
      "cell_type": "code",
      "source": [
        "pyavanimate.test_interactive_two_part_song()"
      ],
      "metadata": {
        "id": "8wi2N2_WzK-V"
      },
      "execution_count": null,
      "outputs": []
    }
  ]
}