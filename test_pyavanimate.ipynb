{
  "nbformat": 4,
  "nbformat_minor": 0,
  "metadata": {
    "colab": {
      "provenance": [],
      "authorship_tag": "ABX9TyPlrj1UJTE6t/Zev9tb67KI",
      "include_colab_link": true
    },
    "kernelspec": {
      "name": "python3",
      "display_name": "Python 3"
    },
    "language_info": {
      "name": "python"
    }
  },
  "cells": [
    {
      "cell_type": "markdown",
      "metadata": {
        "id": "view-in-github",
        "colab_type": "text"
      },
      "source": [
        "<a href=\"https://colab.research.google.com/github/davies-w/pyavanimate/blob/master/test_pyavanimate.ipynb\" target=\"_parent\"><img src=\"https://colab.research.google.com/assets/colab-badge.svg\" alt=\"Open In Colab\"/></a>"
      ]
    },
    {
      "cell_type": "code",
      "execution_count": null,
      "metadata": {
        "id": "oCUh1_xB0Din"
      },
      "outputs": [],
      "source": [
        "!pip install --upgrade --no-deps --force-reinstall --quiet 'git+https://github.com/davies-w/pyavanimate.git'"
      ]
    },
    {
      "cell_type": "code",
      "source": [
        "import pyavanimate"
      ],
      "metadata": {
        "id": "k2ZcEycb0Vwz"
      },
      "execution_count": 1,
      "outputs": []
    },
    {
      "cell_type": "code",
      "source": [
        "pyavanimate.test_slow_song()"
      ],
      "metadata": {
        "id": "qQs-NeXn0a7I"
      },
      "execution_count": null,
      "outputs": []
    },
    {
      "cell_type": "code",
      "source": [
        "pyavanimate.test_fast_song()"
      ],
      "metadata": {
        "id": "zz0wOozb0oR7"
      },
      "execution_count": null,
      "outputs": []
    },
    {
      "cell_type": "code",
      "source": [
        "pyavanimate.test_fast_two_part_song()"
      ],
      "metadata": {
        "id": "75Fyh77LPOqL"
      },
      "execution_count": null,
      "outputs": []
    },
    {
      "cell_type": "code",
      "source": [
        "pyavanimate.test_interactive()"
      ],
      "metadata": {
        "id": "c6cvAc75kBUU"
      },
      "execution_count": null,
      "outputs": []
    },
    {
      "cell_type": "code",
      "source": [
        "pyavanimate.test_interactive_two_part_song()"
      ],
      "metadata": {
        "id": "8wi2N2_WzK-V"
      },
      "execution_count": null,
      "outputs": []
    },
    {
      "cell_type": "code",
      "source": [
        "stereo_song_amp_wav_1, stereo_song_amp_aac_1, song_rate, song_duration = pyavanimate.make_test_song(pow(0.5,4), 0.75)\n",
        "stereo_song_amp_wav_2, stereo_song_amp_aac_2, song_rate, song_duration = pyavanimate.make_test_song(1.0, 0.25)\n",
        "tracks = [stereo_song_amp_aac_1, stereo_song_amp_aac_2]\n",
        "pyavanimate.make_ipywidget_player(tracks, song_rate, song_duration)"
      ],
      "metadata": {
        "id": "cKG9Kq0c3dcS"
      },
      "execution_count": null,
      "outputs": []
    }
  ]
}